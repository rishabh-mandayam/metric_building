{
 "cells": [
  {
   "cell_type": "markdown",
   "source": [
    "China v US Case Study:"
   ],
   "metadata": {
    "collapsed": false
   },
   "id": "10fe0254a95276e4"
  },
  {
   "cell_type": "code",
   "execution_count": 7,
   "id": "initial_id",
   "metadata": {
    "collapsed": true,
    "ExecuteTime": {
     "end_time": "2024-02-25T16:55:49.006922200Z",
     "start_time": "2024-02-25T16:55:48.995642500Z"
    }
   },
   "outputs": [],
   "source": [
    "import pandas as pd\n",
    "import numpy as np\n",
    "from matplotlib import pyplot as plt\n",
    "import seaborn as sns"
   ]
  },
  {
   "cell_type": "code",
   "outputs": [
    {
     "data": {
      "text/plain": "          caldt     b1ret    t90ret    cpiret\n0    1929-03-28       NaN  0.010424 -0.005848\n1    1929-06-29       NaN  0.012697  0.005882\n2    1929-09-30       NaN  0.011683  0.011696\n3    1929-12-31       NaN  0.013535 -0.005780\n4    1930-03-31       NaN  0.008532 -0.017442\n..          ...       ...       ...       ...\n347  2015-12-31 -0.002149  0.000209 -0.005968\n348  2016-03-31  0.004291  0.000758  0.006794\n349  2016-06-30  0.003261  0.000846  0.012119\n350  2016-09-30  0.000035  0.001092  0.001701\n351  2016-12-30  0.000077  0.000842  0.000017\n\n[352 rows x 4 columns]",
      "text/html": "<div>\n<style scoped>\n    .dataframe tbody tr th:only-of-type {\n        vertical-align: middle;\n    }\n\n    .dataframe tbody tr th {\n        vertical-align: top;\n    }\n\n    .dataframe thead th {\n        text-align: right;\n    }\n</style>\n<table border=\"1\" class=\"dataframe\">\n  <thead>\n    <tr style=\"text-align: right;\">\n      <th></th>\n      <th>caldt</th>\n      <th>b1ret</th>\n      <th>t90ret</th>\n      <th>cpiret</th>\n    </tr>\n  </thead>\n  <tbody>\n    <tr>\n      <th>0</th>\n      <td>1929-03-28</td>\n      <td>NaN</td>\n      <td>0.010424</td>\n      <td>-0.005848</td>\n    </tr>\n    <tr>\n      <th>1</th>\n      <td>1929-06-29</td>\n      <td>NaN</td>\n      <td>0.012697</td>\n      <td>0.005882</td>\n    </tr>\n    <tr>\n      <th>2</th>\n      <td>1929-09-30</td>\n      <td>NaN</td>\n      <td>0.011683</td>\n      <td>0.011696</td>\n    </tr>\n    <tr>\n      <th>3</th>\n      <td>1929-12-31</td>\n      <td>NaN</td>\n      <td>0.013535</td>\n      <td>-0.005780</td>\n    </tr>\n    <tr>\n      <th>4</th>\n      <td>1930-03-31</td>\n      <td>NaN</td>\n      <td>0.008532</td>\n      <td>-0.017442</td>\n    </tr>\n    <tr>\n      <th>...</th>\n      <td>...</td>\n      <td>...</td>\n      <td>...</td>\n      <td>...</td>\n    </tr>\n    <tr>\n      <th>347</th>\n      <td>2015-12-31</td>\n      <td>-0.002149</td>\n      <td>0.000209</td>\n      <td>-0.005968</td>\n    </tr>\n    <tr>\n      <th>348</th>\n      <td>2016-03-31</td>\n      <td>0.004291</td>\n      <td>0.000758</td>\n      <td>0.006794</td>\n    </tr>\n    <tr>\n      <th>349</th>\n      <td>2016-06-30</td>\n      <td>0.003261</td>\n      <td>0.000846</td>\n      <td>0.012119</td>\n    </tr>\n    <tr>\n      <th>350</th>\n      <td>2016-09-30</td>\n      <td>0.000035</td>\n      <td>0.001092</td>\n      <td>0.001701</td>\n    </tr>\n    <tr>\n      <th>351</th>\n      <td>2016-12-30</td>\n      <td>0.000077</td>\n      <td>0.000842</td>\n      <td>0.000017</td>\n    </tr>\n  </tbody>\n</table>\n<p>352 rows × 4 columns</p>\n</div>"
     },
     "execution_count": 8,
     "metadata": {},
     "output_type": "execute_result"
    }
   ],
   "source": [
    "# Load US risk-free rate\n",
    "\n",
    "df_us_treasury_cpi = pd.read_csv('us_data/us treasury_cpi.csv')\n",
    "df_us_treasury_cpi"
   ],
   "metadata": {
    "collapsed": false,
    "ExecuteTime": {
     "end_time": "2024-02-25T16:55:49.237471500Z",
     "start_time": "2024-02-25T16:55:49.223741Z"
    }
   },
   "id": "af43959b31c200fa",
   "execution_count": 8
  },
  {
   "cell_type": "code",
   "outputs": [
    {
     "data": {
      "text/plain": "            Clsdt  Nrrdata  Nrrwkdt\n0      1990-04-15    10.08   0.1849\n1      1990-08-21     8.64   0.1595\n2      1990-12-19     8.64   0.1595\n3      1990-12-20     8.64   0.1595\n4      1990-12-21     8.64   0.1595\n...           ...      ...      ...\n11698  2022-12-27     1.50   0.0286\n11699  2022-12-28     1.50   0.0286\n11700  2022-12-29     1.50   0.0286\n11701  2022-12-30     1.50   0.0286\n11702  2022-12-31     1.50   0.0286\n\n[11703 rows x 3 columns]",
      "text/html": "<div>\n<style scoped>\n    .dataframe tbody tr th:only-of-type {\n        vertical-align: middle;\n    }\n\n    .dataframe tbody tr th {\n        vertical-align: top;\n    }\n\n    .dataframe thead th {\n        text-align: right;\n    }\n</style>\n<table border=\"1\" class=\"dataframe\">\n  <thead>\n    <tr style=\"text-align: right;\">\n      <th></th>\n      <th>Clsdt</th>\n      <th>Nrrdata</th>\n      <th>Nrrwkdt</th>\n    </tr>\n  </thead>\n  <tbody>\n    <tr>\n      <th>0</th>\n      <td>1990-04-15</td>\n      <td>10.08</td>\n      <td>0.1849</td>\n    </tr>\n    <tr>\n      <th>1</th>\n      <td>1990-08-21</td>\n      <td>8.64</td>\n      <td>0.1595</td>\n    </tr>\n    <tr>\n      <th>2</th>\n      <td>1990-12-19</td>\n      <td>8.64</td>\n      <td>0.1595</td>\n    </tr>\n    <tr>\n      <th>3</th>\n      <td>1990-12-20</td>\n      <td>8.64</td>\n      <td>0.1595</td>\n    </tr>\n    <tr>\n      <th>4</th>\n      <td>1990-12-21</td>\n      <td>8.64</td>\n      <td>0.1595</td>\n    </tr>\n    <tr>\n      <th>...</th>\n      <td>...</td>\n      <td>...</td>\n      <td>...</td>\n    </tr>\n    <tr>\n      <th>11698</th>\n      <td>2022-12-27</td>\n      <td>1.50</td>\n      <td>0.0286</td>\n    </tr>\n    <tr>\n      <th>11699</th>\n      <td>2022-12-28</td>\n      <td>1.50</td>\n      <td>0.0286</td>\n    </tr>\n    <tr>\n      <th>11700</th>\n      <td>2022-12-29</td>\n      <td>1.50</td>\n      <td>0.0286</td>\n    </tr>\n    <tr>\n      <th>11701</th>\n      <td>2022-12-30</td>\n      <td>1.50</td>\n      <td>0.0286</td>\n    </tr>\n    <tr>\n      <th>11702</th>\n      <td>2022-12-31</td>\n      <td>1.50</td>\n      <td>0.0286</td>\n    </tr>\n  </tbody>\n</table>\n<p>11703 rows × 3 columns</p>\n</div>"
     },
     "execution_count": 9,
     "metadata": {},
     "output_type": "execute_result"
    }
   ],
   "source": [
    "# Load China risk-free rate data\n",
    "\n",
    "df_ch_risk_free = pd.read_csv('china_data/china risk free.csv')\n",
    "df_ch_risk_free"
   ],
   "metadata": {
    "collapsed": false,
    "ExecuteTime": {
     "end_time": "2024-02-25T16:55:49.537598300Z",
     "start_time": "2024-02-25T16:55:49.499158500Z"
    }
   },
   "id": "7511bb475809c8bc",
   "execution_count": 9
  },
  {
   "cell_type": "code",
   "outputs": [],
   "source": [],
   "metadata": {
    "collapsed": false
   },
   "id": "ae42686a62dc2c94"
  }
 ],
 "metadata": {
  "kernelspec": {
   "display_name": "Python 3",
   "language": "python",
   "name": "python3"
  },
  "language_info": {
   "codemirror_mode": {
    "name": "ipython",
    "version": 2
   },
   "file_extension": ".py",
   "mimetype": "text/x-python",
   "name": "python",
   "nbconvert_exporter": "python",
   "pygments_lexer": "ipython2",
   "version": "2.7.6"
  }
 },
 "nbformat": 4,
 "nbformat_minor": 5
}
